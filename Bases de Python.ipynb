{
 "cells": [
  {
   "cell_type": "markdown",
   "metadata": {},
   "source": [
    "Ne pas aller à la ligne avec un print en spécifiant le caractère de fin. Ici end=' ' c'est une espace."
   ]
  },
  {
   "cell_type": "code",
   "execution_count": null,
   "metadata": {},
   "outputs": [],
   "source": [
    "def affiche(mot='rien'):\n",
    "    \"\"\"pas de retour à la ligne, mais un espace\"\"\"\n",
    "    for I in range(3):\n",
    "        print(I,mot,end=' ')\n",
    "\n",
    "affiche()"
   ]
  },
  {
   "cell_type": "markdown",
   "metadata": {},
   "source": [
    "Associer un caractère avec son point de code de façon biunivoqie."
   ]
  },
  {
   "cell_type": "code",
   "execution_count": null,
   "metadata": {},
   "outputs": [],
   "source": [
    "def code_caractere(mot='abcde'):\n",
    "    \"\"\"César avec un décallage de 1\"\"\"\n",
    "    code=\"\"\n",
    "    for c in mot:\n",
    "        code=code+chr(ord(c)+1)\n",
    "    return code\n",
    "code_caractere()"
   ]
  },
  {
   "cell_type": "markdown",
   "metadata": {},
   "source": [
    "Ecrire des if en ligne."
   ]
  },
  {
   "cell_type": "code",
   "execution_count": null,
   "metadata": {},
   "outputs": [],
   "source": [
    "def autre_ecriture_si(masse):\n",
    "    \"\"\"écrite de if en ligne\"\"\"\n",
    "    return 3*masse if masse<=20 else (2*masse if masse<50 else masse)\n",
    "autre_ecriture_si(20)"
   ]
  },
  {
   "cell_type": "code",
   "execution_count": null,
   "metadata": {},
   "outputs": [],
   "source": [
    "Liste en compréhension avec des entrées."
   ]
  },
  {
   "cell_type": "code",
   "execution_count": null,
   "metadata": {},
   "outputs": [],
   "source": [
    "def si_en_ligne():\n",
    "    \"\"\"liste en compréhention\"\"\"\n",
    "    return sum([float(input('jour '+str(I)+' : ')) for I in range(7)])/7\n",
    "si_en_ligne()"
   ]
  },
  {
   "cell_type": "markdown",
   "metadata": {},
   "source": [
    "Liste de nombres pseudo-aléatoires, mais périodiques... (principe des tiroirs de Dirichlet)"
   ]
  },
  {
   "cell_type": "code",
   "execution_count": null,
   "metadata": {},
   "outputs": [],
   "source": [
    "import matplotlib.pyplot as plt\n",
    "def pseudo_alea(n=100):\n",
    "    \"\"\"liste de nombres pseudo-aléatoires\"\"\"\n",
    "    liste=[13]\n",
    "    for I in range(n):\n",
    "        liste.append((16805*liste[I] + 1) % 32768)\n",
    "    plt.subplot(1,2,1)\n",
    "    plt.plot(liste,'.')\n",
    "    plt.title('nombres')\n",
    "    pileFace=[bin(nb)[-1] for nb in liste]\n",
    "    plt.subplot(1,2,2 )\n",
    "    plt.plot(pileFace,'.')\n",
    "    plt.title('bits de poids faibles')\n",
    "    plt.show()\n",
    "pseudo_alea()"
   ]
  },
  {
   "cell_type": "markdown",
   "metadata": {},
   "source": [
    "Récursivité"
   ]
  },
  {
   "cell_type": "code",
   "execution_count": null,
   "metadata": {},
   "outputs": [],
   "source": [
    "def puissance_de_2(n=10):\n",
    "    \"\"\"retourne la puissance n-ième de 2\"\"\"\n",
    "    return 1 if n==0 else 2*puissance_de_2(n-1)\n",
    "puissance_de_2()"
   ]
  },
  {
   "cell_type": "code",
   "execution_count": null,
   "metadata": {},
   "outputs": [],
   "source": [
    "def PGCD(a,b):\n",
    "    \"\"\"retourne le PGCD à partir de l'algorithme d'Euclide\"\"\"\n",
    "    return b if a%b==0 else PGCD(b,a%b)\n",
    "PGCD(30,42)"
   ]
  },
  {
   "cell_type": "code",
   "execution_count": null,
   "metadata": {},
   "outputs": [],
   "source": [
    "def base_10_vers_n_recursif(nb=6007,n=5):\n",
    "    \"\"\"retourne l'écriture de nb en base n\"\"\"\n",
    "    return str(nb) if nb//n==0 else base_10_vers_n_recursif(nb//n,n)+str(nb%n)\n",
    "base_10_vers_n_recursif(1020,2)"
   ]
  },
  {
   "cell_type": "markdown",
   "metadata": {},
   "source": [
    "avec les listes différence entre le tri en place a.sort() et sorted(a) qui produit une autre liste"
   ]
  },
  {
   "cell_type": "code",
   "execution_count": 1,
   "metadata": {},
   "outputs": [
    {
     "name": "stdout",
     "output_type": "stream",
     "text": [
      "[1, 2, 5, 5, 6, 6, 7, 8]\n",
      "[2, 1, 8, 6, 5, 7, 5, 6]\n",
      "[1, 2, 5, 5, 6, 6, 7, 8]\n"
     ]
    }
   ],
   "source": [
    "def deux_tris(liste=[2,1,8,6,5,7,5,6]):\n",
    "    \"\"\"illusrte le tri en place et le tri dans une autre liste\"\"\"\n",
    "    print(sorted(liste))#renvoie une autre liste\n",
    "    print(liste)\n",
    "    liste.sort()#en place\n",
    "    print(liste)\n",
    "deux_tris()"
   ]
  },
  {
   "cell_type": "markdown",
   "metadata": {},
   "source": [
    "L'encodage des caractères"
   ]
  },
  {
   "cell_type": "code",
   "execution_count": 3,
   "metadata": {},
   "outputs": [
    {
     "name": "stdout",
     "output_type": "stream",
     "text": [
      "Δ\n",
      "Τ\n"
     ]
    }
   ],
   "source": [
    "print(\"\\N{GREEK CAPITAL LETTER DELTA}\")\n",
    "print(\"\\u0394\")\n"
   ]
  },
  {
   "cell_type": "markdown",
   "metadata": {},
   "source": [
    "Pour tester une égalité, l'astuce est de voir si les deux nombres sont \\og vraiment \\fg{} proches."
   ]
  },
  {
   "cell_type": "code",
   "execution_count": 2,
   "metadata": {},
   "outputs": [
    {
     "data": {
      "text/plain": [
       "(False, True)"
      ]
     },
     "execution_count": 2,
     "metadata": {},
     "output_type": "execute_result"
    }
   ],
   "source": [
    "from math import *\n",
    "def egalite(a=0.3,b=0.1+0.1+0.1):\n",
    "    \"\"\"retourne le test d'égalité stricte et le test de proximité\"\"\"\n",
    "    return (a==b, isclose(a,b))\n",
    "egalite()"
   ]
  },
  {
   "cell_type": "markdown",
   "metadata": {},
   "source": [
    "Affichage de courbes avec matplotlib.pyplot"
   ]
  },
  {
   "cell_type": "code",
   "execution_count": 33,
   "metadata": {},
   "outputs": [
    {
     "data": {
      "image/png": "[encoded data removed]",
      "text/plain": [
       "<Figure size 432x288 with 1 Axes>"
      ]
     },
     "metadata": {
      "needs_background": "light"
     },
     "output_type": "display_data"
    }
   ],
   "source": [
    "import numpy as np\n",
    "import matplotlib.pyplot as plt\n",
    "def graphiques(f = lambda x : x**2):\n",
    "    \"\"\"tracés des courbes\"\"\"\n",
    "    X=np.linspace(-2,1.5,100)#100 valeurs de -2 à 1.5 dans un ndarray de numpy\n",
    "    Y=f(X)\n",
    "    plt.plot(X,Y,'r-')#- -- ^ s -. : b g r c m y k w , linewidth=0.8, marker=\"+\", label=\"Trajet 2\"\n",
    "    plt.ylabel('$C_f$')\n",
    "    plt.title(\"f en fonction de x\")\n",
    "    plt.show()\n",
    "graphiques()"
   ]
  },
  {
   "cell_type": "markdown",
   "metadata": {},
   "source": [
    "Graphiques statistiques avec matplotlib"
   ]
  },
  {
   "cell_type": "code",
   "execution_count": 27,
   "metadata": {},
   "outputs": [
    {
     "data": {
      "image/png": "[encoded data removed]",
      "text/plain": [
       "<Figure size 432x288 with 2 Axes>"
      ]
     },
     "metadata": {
      "needs_background": "light"
     },
     "output_type": "display_data"
    }
   ],
   "source": [
    "import numpy as np\n",
    "import matplotlib.pyplot as plt\n",
    "def graphiques():\n",
    "    \"\"\"graphique statistiques\"\"\"\n",
    "    x = [1,2,3,4,5]\n",
    "    donnees=[20,5,60,10,20]\n",
    "    noms=['A','B','C','D','E']\n",
    "    explode=(0, 0, 0.15, 0,0)#sépart la part de 'B'\n",
    "    \n",
    "    plt.subplot(1,2,1)    \n",
    "    plt.pie(donnees, explode=explode, labels=noms, autopct='%1.2f%%', startangle=90, shadow=True)\n",
    "    plt.axis('equal')# un camembert bien rond\n",
    "    \n",
    "    plt.subplot(1,2,2)    \n",
    "    plt.bar(x,donnees, width=0.5, color=(0.1,0.2,0.3, 1.0) )\n",
    "    plt.xticks(x,noms)\n",
    "    plt.grid()\n",
    "\n",
    "    plt.savefig('circulaire et barres.png')    \n",
    "    plt.show()\n",
    "graphiques()"
   ]
  },
  {
   "cell_type": "markdown",
   "metadata": {},
   "source": [
    "histogramme et diagramme en boite"
   ]
  },
  {
   "cell_type": "code",
   "execution_count": 51,
   "metadata": {},
   "outputs": [
    {
     "data": {
      "image/png": "[encoded data removed]",
      "text/plain": [
       "<Figure size 432x288 with 2 Axes>"
      ]
     },
     "metadata": {
      "needs_background": "light"
     },
     "output_type": "display_data"
    }
   ],
   "source": [
    "from random import *\n",
    "import matplotlib.pyplot as plt\n",
    "def graphiques(n=1000):\n",
    "    \"\"\"simule n fois la somme de 5 dés\"\"\"\n",
    "    X1=[randint(1,6)+randint(1,6)+randint(1,6)+randint(1,6)+randint(1,6) for I in range(n)]\n",
    "    X2=[randint(1,6)+randint(1,6)+randint(1,6)+randint(1,6)+randint(1,6)for I in range(n)]\n",
    "    \n",
    "    plt.subplot(1,2,1)    \n",
    "    plt.boxplot([X1,X2])\n",
    "    \n",
    "    plt.subplot(1,2,2)    \n",
    "    plt.hist(X1,bins=[0,10,15,18,20,22,25,31],color=(1,0,0,1))\n",
    "    plt.hist(X2,bins=[0,10,15,18,20,22,25,31],color=(0,0,1,0.5))\n",
    "    plt.grid()\n",
    "\n",
    "    plt.savefig('boite et histogramme.png')    \n",
    "    plt.show()\n",
    "graphiques()"
   ]
  },
  {
   "cell_type": "code",
   "execution_count": null,
   "metadata": {},
   "outputs": [],
   "source": []
  }
 ],
 "metadata": {
  "kernelspec": {
   "display_name": "Python 3",
   "language": "python",
   "name": "python3"
  },
  "language_info": {
   "codemirror_mode": {
    "name": "ipython",
    "version": 3
   },
   "file_extension": ".py",
   "mimetype": "text/x-python",
   "name": "python",
   "nbconvert_exporter": "python",
   "pygments_lexer": "ipython3",
   "version": "3.7.3"
  }
 },
 "nbformat": 4,
 "nbformat_minor": 2
}
